{
 "cells": [
  {
   "cell_type": "code",
   "execution_count": 1,
   "metadata": {},
   "outputs": [
    {
     "data": {
      "text/plain": [
       "'\\nGraphormer MHA alignment'"
      ]
     },
     "execution_count": 1,
     "metadata": {},
     "output_type": "execute_result"
    }
   ],
   "source": [
    "r\"\"\"\n",
    "Graphormer MHA alignment\"\"\""
   ]
  },
  {
   "cell_type": "code",
   "execution_count": 2,
   "metadata": {},
   "outputs": [],
   "source": [
    "# select device\n",
    "import os \n",
    "#os.environ['CUDA_VISIBLE_DEVICES'] = '1'"
   ]
  },
  {
   "cell_type": "code",
   "execution_count": 3,
   "metadata": {},
   "outputs": [
    {
     "name": "stderr",
     "output_type": "stream",
     "text": [
      "/home/hubo/Software/miniconda3/envs/mindspore/lib/python3.9/site-packages/tqdm/auto.py:21: TqdmWarning: IProgress not found. Please update jupyter and ipywidgets. See https://ipywidgets.readthedocs.io/en/stable/user_install.html\n",
      "  from .autonotebook import tqdm as notebook_tqdm\n",
      "[WARNING] ME(35288:140340131664256,MainProcess):2023-11-15-18:12:58.435.815 [mindspore/run_check/_check_version.py:102] MindSpore version 2.2.0 and cuda version 11.4.148 does not match, CUDA version [['10.1', '11.1', '11.6']] are supported by MindSpore officially. Please refer to the installation guide for version matching information: https://www.mindspore.cn/install.\n",
      "2023-11-15 18:13:00,092 - modelscope - INFO - PyTorch version 1.12.0+cu116 Found.\n",
      "2023-11-15 18:13:00,093 - modelscope - INFO - Loading ast index from /home/hubo/.cache/modelscope/ast_indexer\n",
      "2023-11-15 18:13:00,123 - modelscope - INFO - Loading done! Current index file version is 1.9.4, with md5 d9a86a06b3e111926fdc559cc3e2c156 and a total number of 945 components indexed\n"
     ]
    }
   ],
   "source": [
    "import torch\n",
    "import mindspore as ms\n",
    "import numpy as np\n",
    "\n",
    "import transformers.models.graphormer.modeling_graphormer as ptm\n",
    "import transformers.models.graphormer.configuration_graphormer as ptc\n",
    "\n",
    "import mindnlp.transformers.models.graphormer.modeling_graphormer as msm\n",
    "import mindnlp.transformers.models.graphormer.configuration_graphormer as msc"
   ]
  },
  {
   "cell_type": "code",
   "execution_count": 4,
   "metadata": {},
   "outputs": [],
   "source": [
    "# init config\n",
    "ms_config = msc.GraphormerConfig()\n",
    "pt_config = ptc.GraphormerConfig()"
   ]
  },
  {
   "cell_type": "code",
   "execution_count": 5,
   "metadata": {},
   "outputs": [],
   "source": [
    "# init model\n",
    "ms_model = msm.GraphormerMultiheadAttention(ms_config)\n",
    "pt_model = ptm.GraphormerMultiheadAttention(pt_config)"
   ]
  },
  {
   "cell_type": "code",
   "execution_count": 6,
   "metadata": {},
   "outputs": [],
   "source": [
    "def ms_param_name_to_pt(param_name: str):\n",
    "    if 'embedding_table' in param_name:\n",
    "        param_name = param_name.replace('embedding_table', 'weight')\n",
    "    elif 'layer_norm'in param_name:\n",
    "        param_name = param_name.replace('layer_norm.gamma', 'layer_norm.weight')\n",
    "        param_name = param_name.replace('layer_norm.beta', 'layer_norm.bias')\n",
    "    return param_name"
   ]
  },
  {
   "cell_type": "code",
   "execution_count": 7,
   "metadata": {},
   "outputs": [
    {
     "name": "stdout",
     "output_type": "stream",
     "text": [
      "Parameter names matched\n"
     ]
    }
   ],
   "source": [
    "# print ms_model parameters' name\n",
    "ms_keys = ms_model.parameters_dict().keys()\n",
    "ms_keys = set([ms_param_name_to_pt(k) for k in ms_keys])\n",
    "\n",
    "pt_params = dict(pt_model.named_parameters())\n",
    "pt_keys = set(set(pt_params.keys()))\n",
    "diff1 = sorted(ms_keys - pt_keys)\n",
    "diff2 = sorted(pt_keys - ms_keys)\n",
    "if len(diff1) or len(diff2):\n",
    "    print(diff1)\n",
    "    print(diff2)\n",
    "else:\n",
    "    print('Parameter names matched')"
   ]
  },
  {
   "cell_type": "code",
   "execution_count": 8,
   "metadata": {},
   "outputs": [],
   "source": [
    "# load parameters\n",
    "for key, param in ms_model.parameters_and_names():\n",
    "    key = ms_param_name_to_pt(key)\n",
    "    param.set_data(ms.Tensor(pt_params.get(key).detach().numpy()))"
   ]
  },
  {
   "cell_type": "code",
   "execution_count": 9,
   "metadata": {},
   "outputs": [
    {
     "data": {
      "text/plain": [
       "GraphormerMultiheadAttention(\n",
       "  (attention_dropout_module): Dropout(p=0.1, inplace=False)\n",
       "  (k_proj): Linear(in_features=768, out_features=768, bias=True)\n",
       "  (v_proj): Linear(in_features=768, out_features=768, bias=True)\n",
       "  (q_proj): Linear(in_features=768, out_features=768, bias=True)\n",
       "  (out_proj): Linear(in_features=768, out_features=768, bias=True)\n",
       ")"
      ]
     },
     "execution_count": 9,
     "metadata": {},
     "output_type": "execute_result"
    }
   ],
   "source": [
    "# set eval mode\n",
    "ms_model.set_train(False)\n",
    "pt_model.eval()"
   ]
  },
  {
   "cell_type": "code",
   "execution_count": 28,
   "metadata": {},
   "outputs": [],
   "source": [
    "def ids_tensor_np(shape, vocab_size):\n",
    "    print(vocab_size)\n",
    "    return np.random.randint(0, vocab_size-1, shape)\n",
    "\n",
    "def floats_tensor_np(shape, scale=1.0):\n",
    "    return np.random.uniform(low=0, high=scale, size=shape)"
   ]
  },
  {
   "cell_type": "code",
   "execution_count": 47,
   "metadata": {},
   "outputs": [],
   "source": [
    "def np_inputs_to_ms(inputs):\n",
    "    inputs_ms = dict()\n",
    "    for key, value in inputs.items():\n",
    "        if key in ['attn_bias', 'query', 'key', 'value']:\n",
    "            inputs_ms[key] = ms.tensor(value, dtype=ms.float32)\n",
    "        elif key == 'key_padding_mask':\n",
    "            inputs_ms[key] = ms.tensor(value, dtype=ms.dtype.bool_)\n",
    "        else:\n",
    "            inputs_ms[key] = ms.tensor(value, dtype=ms.int64)\n",
    "    return inputs_ms\n",
    "\n",
    "def np_inputs_to_pt(inputs):\n",
    "    inputs_pt = dict()\n",
    "    for key, value in inputs.items():\n",
    "        if key in ['attn_bias', 'query', 'key', 'value']:\n",
    "            inputs_pt[key] = torch.tensor(value, dtype=torch.float32)\n",
    "        elif key == 'key_padding_mask':\n",
    "            inputs_pt[key] = torch.tensor(value, dtype=torch.bool)\n",
    "        else:\n",
    "            inputs_pt[key] = torch.tensor(value, dtype=torch.int64)\n",
    "    return inputs_pt\n",
    "        "
   ]
  },
  {
   "cell_type": "code",
   "execution_count": 48,
   "metadata": {},
   "outputs": [
    {
     "name": "stdout",
     "output_type": "stream",
     "text": [
      "9217\n"
     ]
    }
   ],
   "source": [
    "# prepare data\n",
    "batch_size=10\n",
    "graph_size=20\n",
    "\n",
    "query = floats_tensor_np([graph_size + 1, batch_size, ms_config.embedding_dim])\n",
    "\n",
    "inputs = dict(\n",
    "    query = query,\n",
    "    key = query,\n",
    "    value = query,\n",
    "    attn_bias = ids_tensor_np([batch_size * ms_config.num_attention_heads, graph_size + 1, graph_size + 1], ms_config.num_atoms * 2 + 1),\n",
    "    key_padding_mask = np.full((batch_size, graph_size + 1), False))\n",
    "additional_inputs = dict(need_weights = False, attn_mask = None)\n",
    "\n",
    "inputs_ms = np_inputs_to_ms(inputs)\n",
    "inputs_pt = np_inputs_to_pt(inputs)\n",
    "inputs_ms.update(additional_inputs)\n",
    "inputs_pt.update(additional_inputs)\n"
   ]
  },
  {
   "cell_type": "code",
   "execution_count": 49,
   "metadata": {},
   "outputs": [],
   "source": [
    "# output\n",
    "ms_out = ms_model(**inputs_ms)\n",
    "pt_out = pt_model(**inputs_pt)"
   ]
  },
  {
   "cell_type": "code",
   "execution_count": 53,
   "metadata": {},
   "outputs": [],
   "source": [
    "# Check that the outputs have same shape\n",
    "assert ms_out[0].shape == pt_out[0].shape"
   ]
  },
  {
   "cell_type": "code",
   "execution_count": 56,
   "metadata": {},
   "outputs": [],
   "source": [
    "def judge(o1, o2, loss = 1e-3, prefix = '-'):\n",
    "    prefix += '-'\n",
    "    if (isinstance(o1, tuple)):\n",
    "        for i in range(len(o1)):\n",
    "            judge(o1[i], o2[i], loss=loss, prefix=prefix)\n",
    "    elif (isinstance(o1, ms.Tensor)):\n",
    "        np1 = o1.asnumpy()\n",
    "        np2 = o2.detach().numpy()\n",
    "        print(f\"{prefix}{np.allclose(np1, np2, loss, loss)}\")\n",
    "        print(np.abs((np1 - np2)).max())\n",
    "    else:\n",
    "        print(f\"{type(o1)}-{type(o2)}:{o1==o2}\")\n"
   ]
  },
  {
   "cell_type": "code",
   "execution_count": 57,
   "metadata": {},
   "outputs": [
    {
     "name": "stdout",
     "output_type": "stream",
     "text": [
      "--True\n",
      "4.7683716e-07\n"
     ]
    }
   ],
   "source": [
    "# Check that the outputs difference are within tolerable range\n",
    "loss = 1e-5\n",
    "\n",
    "judge(ms_out[0], pt_out[0], loss)"
   ]
  }
 ],
 "metadata": {
  "kernelspec": {
   "display_name": "Python 3 (ipykernel)",
   "language": "python",
   "name": "python3"
  },
  "language_info": {
   "codemirror_mode": {
    "name": "ipython",
    "version": 3
   },
   "file_extension": ".py",
   "mimetype": "text/x-python",
   "name": "python",
   "nbconvert_exporter": "python",
   "pygments_lexer": "ipython3",
   "version": "3.9.18"
  }
 },
 "nbformat": 4,
 "nbformat_minor": 4
}
