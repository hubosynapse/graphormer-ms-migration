{
 "cells": [
  {
   "cell_type": "code",
   "execution_count": 1,
   "metadata": {},
   "outputs": [
    {
     "data": {
      "text/plain": [
       "'\\nGraphormer module alignment'"
      ]
     },
     "execution_count": 1,
     "metadata": {},
     "output_type": "execute_result"
    }
   ],
   "source": [
    "r\"\"\"\n",
    "Graphormer module alignment\"\"\""
   ]
  },
  {
   "cell_type": "code",
   "execution_count": 9,
   "metadata": {},
   "outputs": [],
   "source": [
    "# select device\n",
    "import os \n",
    "os.environ['CUDA_VISIBLE_DEVICES'] = '1'"
   ]
  },
  {
   "cell_type": "code",
   "execution_count": 10,
   "metadata": {},
   "outputs": [],
   "source": [
    "import torch, mindspore\n",
    "import numpy as np\n",
    "\n",
    "import transformers.models.graphormer.modeling_graphormer as ptm\n",
    "import transformers.models.graphormer.configuration_graphormer as ptc\n",
    "\n",
    "import mindnlp.transformers.models.graphormer.modeling_graphormer as msm\n",
    "import mindnlp.transformers.models.graphormer.configuration_graphormer as msc"
   ]
  },
  {
   "cell_type": "code",
   "execution_count": 11,
   "metadata": {},
   "outputs": [],
   "source": [
    "# init config\n",
    "ms_config = msc.GraphormerConfig()\n",
    "pt_config = ptc.GraphormerConfig()"
   ]
  },
  {
   "cell_type": "code",
   "execution_count": 12,
   "metadata": {},
   "outputs": [],
   "source": [
    "# init model\n",
    "ms_model = msm.GraphormerModel(ms_config)\n",
    "pt_model = ptm.GraphormerModel(pt_config)"
   ]
  },
  {
   "cell_type": "code",
   "execution_count": 34,
   "metadata": {},
   "outputs": [],
   "source": [
    "def convert_ms_param_name_to_pt(param_name: str):\n",
    "    if 'embedding_table' in param_name:\n",
    "        param_name = param_name.replace('embedding_table', 'weight')\n",
    "    elif 'layer_norm'in param_name:\n",
    "        param_name = param_name.replace('layer_norm.gamma', 'layer_norm.weight')\n",
    "        param_name = param_name.replace('layer_norm.beta', 'layer_norm.bias')\n",
    "    return param_name"
   ]
  },
  {
   "cell_type": "code",
   "execution_count": 35,
   "metadata": {},
   "outputs": [
    {
     "name": "stdout",
     "output_type": "stream",
     "text": [
      "Parameter names matched\n"
     ]
    }
   ],
   "source": [
    "# print ms_model parameters' name\n",
    "ms_keys = ms_model.parameters_dict().keys()\n",
    "ms_keys = set([convert_ms_param_name_to_pt(k) for k in ms_keys])\n",
    "\n",
    "pt_keys = set(set(dict(pt_model.named_parameters()).keys()))\n",
    "diff1 = sorted(ms_keys - pt_keys)\n",
    "diff2 = sorted(pt_keys - ms_keys)\n",
    "if len(diff1) or len(diff2):\n",
    "    print(diff1)\n",
    "    print(diff2)\n",
    "else:\n",
    "    print('Parameter names matched')"
   ]
  },
  {
   "cell_type": "code",
   "execution_count": 36,
   "metadata": {},
   "outputs": [],
   "source": [
    "# load parameters\n",
    "for key, param in ms_model.parameters_and_names():\n",
    "    key = convert_ms_param_name_to_pt(key)\n",
    "    param.set_data(mindspore.Tensor(pt_params.get(key).detach().numpy()))"
   ]
  },
  {
   "cell_type": "code",
   "execution_count": 37,
   "metadata": {},
   "outputs": [
    {
     "data": {
      "text/plain": [
       "GraphormerModel(\n",
       "  (graph_encoder): GraphormerGraphEncoder(\n",
       "    (dropout_module): Dropout(p=0.1, inplace=False)\n",
       "    (graph_node_feature): GraphormerGraphNodeFeature(\n",
       "      (atom_encoder): Embedding(4609, 768, padding_idx=0)\n",
       "      (in_degree_encoder): Embedding(512, 768, padding_idx=0)\n",
       "      (out_degree_encoder): Embedding(512, 768, padding_idx=0)\n",
       "      (graph_token): Embedding(1, 768)\n",
       "    )\n",
       "    (graph_attn_bias): GraphormerGraphAttnBias(\n",
       "      (edge_encoder): Embedding(1537, 32, padding_idx=0)\n",
       "      (edge_dis_encoder): Embedding(131072, 1)\n",
       "      (spatial_pos_encoder): Embedding(512, 32, padding_idx=0)\n",
       "      (graph_token_virtual_distance): Embedding(1, 32)\n",
       "    )\n",
       "    (layers): ModuleList(\n",
       "      (0): GraphormerGraphEncoderLayer(\n",
       "        (dropout_module): Dropout(p=0.1, inplace=False)\n",
       "        (activation_dropout_module): Dropout(p=0.1, inplace=False)\n",
       "        (activation_fn): GELUActivation()\n",
       "        (self_attn): GraphormerMultiheadAttention(\n",
       "          (attention_dropout_module): Dropout(p=0.1, inplace=False)\n",
       "          (k_proj): Linear(in_features=768, out_features=768, bias=True)\n",
       "          (v_proj): Linear(in_features=768, out_features=768, bias=True)\n",
       "          (q_proj): Linear(in_features=768, out_features=768, bias=True)\n",
       "          (out_proj): Linear(in_features=768, out_features=768, bias=True)\n",
       "        )\n",
       "        (self_attn_layer_norm): LayerNorm((768,), eps=1e-05, elementwise_affine=True)\n",
       "        (fc1): Linear(in_features=768, out_features=768, bias=True)\n",
       "        (fc2): Linear(in_features=768, out_features=768, bias=True)\n",
       "        (final_layer_norm): LayerNorm((768,), eps=1e-05, elementwise_affine=True)\n",
       "      )\n",
       "      (1): GraphormerGraphEncoderLayer(\n",
       "        (dropout_module): Dropout(p=0.1, inplace=False)\n",
       "        (activation_dropout_module): Dropout(p=0.1, inplace=False)\n",
       "        (activation_fn): GELUActivation()\n",
       "        (self_attn): GraphormerMultiheadAttention(\n",
       "          (attention_dropout_module): Dropout(p=0.1, inplace=False)\n",
       "          (k_proj): Linear(in_features=768, out_features=768, bias=True)\n",
       "          (v_proj): Linear(in_features=768, out_features=768, bias=True)\n",
       "          (q_proj): Linear(in_features=768, out_features=768, bias=True)\n",
       "          (out_proj): Linear(in_features=768, out_features=768, bias=True)\n",
       "        )\n",
       "        (self_attn_layer_norm): LayerNorm((768,), eps=1e-05, elementwise_affine=True)\n",
       "        (fc1): Linear(in_features=768, out_features=768, bias=True)\n",
       "        (fc2): Linear(in_features=768, out_features=768, bias=True)\n",
       "        (final_layer_norm): LayerNorm((768,), eps=1e-05, elementwise_affine=True)\n",
       "      )\n",
       "      (2): GraphormerGraphEncoderLayer(\n",
       "        (dropout_module): Dropout(p=0.1, inplace=False)\n",
       "        (activation_dropout_module): Dropout(p=0.1, inplace=False)\n",
       "        (activation_fn): GELUActivation()\n",
       "        (self_attn): GraphormerMultiheadAttention(\n",
       "          (attention_dropout_module): Dropout(p=0.1, inplace=False)\n",
       "          (k_proj): Linear(in_features=768, out_features=768, bias=True)\n",
       "          (v_proj): Linear(in_features=768, out_features=768, bias=True)\n",
       "          (q_proj): Linear(in_features=768, out_features=768, bias=True)\n",
       "          (out_proj): Linear(in_features=768, out_features=768, bias=True)\n",
       "        )\n",
       "        (self_attn_layer_norm): LayerNorm((768,), eps=1e-05, elementwise_affine=True)\n",
       "        (fc1): Linear(in_features=768, out_features=768, bias=True)\n",
       "        (fc2): Linear(in_features=768, out_features=768, bias=True)\n",
       "        (final_layer_norm): LayerNorm((768,), eps=1e-05, elementwise_affine=True)\n",
       "      )\n",
       "      (3): GraphormerGraphEncoderLayer(\n",
       "        (dropout_module): Dropout(p=0.1, inplace=False)\n",
       "        (activation_dropout_module): Dropout(p=0.1, inplace=False)\n",
       "        (activation_fn): GELUActivation()\n",
       "        (self_attn): GraphormerMultiheadAttention(\n",
       "          (attention_dropout_module): Dropout(p=0.1, inplace=False)\n",
       "          (k_proj): Linear(in_features=768, out_features=768, bias=True)\n",
       "          (v_proj): Linear(in_features=768, out_features=768, bias=True)\n",
       "          (q_proj): Linear(in_features=768, out_features=768, bias=True)\n",
       "          (out_proj): Linear(in_features=768, out_features=768, bias=True)\n",
       "        )\n",
       "        (self_attn_layer_norm): LayerNorm((768,), eps=1e-05, elementwise_affine=True)\n",
       "        (fc1): Linear(in_features=768, out_features=768, bias=True)\n",
       "        (fc2): Linear(in_features=768, out_features=768, bias=True)\n",
       "        (final_layer_norm): LayerNorm((768,), eps=1e-05, elementwise_affine=True)\n",
       "      )\n",
       "      (4): GraphormerGraphEncoderLayer(\n",
       "        (dropout_module): Dropout(p=0.1, inplace=False)\n",
       "        (activation_dropout_module): Dropout(p=0.1, inplace=False)\n",
       "        (activation_fn): GELUActivation()\n",
       "        (self_attn): GraphormerMultiheadAttention(\n",
       "          (attention_dropout_module): Dropout(p=0.1, inplace=False)\n",
       "          (k_proj): Linear(in_features=768, out_features=768, bias=True)\n",
       "          (v_proj): Linear(in_features=768, out_features=768, bias=True)\n",
       "          (q_proj): Linear(in_features=768, out_features=768, bias=True)\n",
       "          (out_proj): Linear(in_features=768, out_features=768, bias=True)\n",
       "        )\n",
       "        (self_attn_layer_norm): LayerNorm((768,), eps=1e-05, elementwise_affine=True)\n",
       "        (fc1): Linear(in_features=768, out_features=768, bias=True)\n",
       "        (fc2): Linear(in_features=768, out_features=768, bias=True)\n",
       "        (final_layer_norm): LayerNorm((768,), eps=1e-05, elementwise_affine=True)\n",
       "      )\n",
       "      (5): GraphormerGraphEncoderLayer(\n",
       "        (dropout_module): Dropout(p=0.1, inplace=False)\n",
       "        (activation_dropout_module): Dropout(p=0.1, inplace=False)\n",
       "        (activation_fn): GELUActivation()\n",
       "        (self_attn): GraphormerMultiheadAttention(\n",
       "          (attention_dropout_module): Dropout(p=0.1, inplace=False)\n",
       "          (k_proj): Linear(in_features=768, out_features=768, bias=True)\n",
       "          (v_proj): Linear(in_features=768, out_features=768, bias=True)\n",
       "          (q_proj): Linear(in_features=768, out_features=768, bias=True)\n",
       "          (out_proj): Linear(in_features=768, out_features=768, bias=True)\n",
       "        )\n",
       "        (self_attn_layer_norm): LayerNorm((768,), eps=1e-05, elementwise_affine=True)\n",
       "        (fc1): Linear(in_features=768, out_features=768, bias=True)\n",
       "        (fc2): Linear(in_features=768, out_features=768, bias=True)\n",
       "        (final_layer_norm): LayerNorm((768,), eps=1e-05, elementwise_affine=True)\n",
       "      )\n",
       "      (6): GraphormerGraphEncoderLayer(\n",
       "        (dropout_module): Dropout(p=0.1, inplace=False)\n",
       "        (activation_dropout_module): Dropout(p=0.1, inplace=False)\n",
       "        (activation_fn): GELUActivation()\n",
       "        (self_attn): GraphormerMultiheadAttention(\n",
       "          (attention_dropout_module): Dropout(p=0.1, inplace=False)\n",
       "          (k_proj): Linear(in_features=768, out_features=768, bias=True)\n",
       "          (v_proj): Linear(in_features=768, out_features=768, bias=True)\n",
       "          (q_proj): Linear(in_features=768, out_features=768, bias=True)\n",
       "          (out_proj): Linear(in_features=768, out_features=768, bias=True)\n",
       "        )\n",
       "        (self_attn_layer_norm): LayerNorm((768,), eps=1e-05, elementwise_affine=True)\n",
       "        (fc1): Linear(in_features=768, out_features=768, bias=True)\n",
       "        (fc2): Linear(in_features=768, out_features=768, bias=True)\n",
       "        (final_layer_norm): LayerNorm((768,), eps=1e-05, elementwise_affine=True)\n",
       "      )\n",
       "      (7): GraphormerGraphEncoderLayer(\n",
       "        (dropout_module): Dropout(p=0.1, inplace=False)\n",
       "        (activation_dropout_module): Dropout(p=0.1, inplace=False)\n",
       "        (activation_fn): GELUActivation()\n",
       "        (self_attn): GraphormerMultiheadAttention(\n",
       "          (attention_dropout_module): Dropout(p=0.1, inplace=False)\n",
       "          (k_proj): Linear(in_features=768, out_features=768, bias=True)\n",
       "          (v_proj): Linear(in_features=768, out_features=768, bias=True)\n",
       "          (q_proj): Linear(in_features=768, out_features=768, bias=True)\n",
       "          (out_proj): Linear(in_features=768, out_features=768, bias=True)\n",
       "        )\n",
       "        (self_attn_layer_norm): LayerNorm((768,), eps=1e-05, elementwise_affine=True)\n",
       "        (fc1): Linear(in_features=768, out_features=768, bias=True)\n",
       "        (fc2): Linear(in_features=768, out_features=768, bias=True)\n",
       "        (final_layer_norm): LayerNorm((768,), eps=1e-05, elementwise_affine=True)\n",
       "      )\n",
       "      (8): GraphormerGraphEncoderLayer(\n",
       "        (dropout_module): Dropout(p=0.1, inplace=False)\n",
       "        (activation_dropout_module): Dropout(p=0.1, inplace=False)\n",
       "        (activation_fn): GELUActivation()\n",
       "        (self_attn): GraphormerMultiheadAttention(\n",
       "          (attention_dropout_module): Dropout(p=0.1, inplace=False)\n",
       "          (k_proj): Linear(in_features=768, out_features=768, bias=True)\n",
       "          (v_proj): Linear(in_features=768, out_features=768, bias=True)\n",
       "          (q_proj): Linear(in_features=768, out_features=768, bias=True)\n",
       "          (out_proj): Linear(in_features=768, out_features=768, bias=True)\n",
       "        )\n",
       "        (self_attn_layer_norm): LayerNorm((768,), eps=1e-05, elementwise_affine=True)\n",
       "        (fc1): Linear(in_features=768, out_features=768, bias=True)\n",
       "        (fc2): Linear(in_features=768, out_features=768, bias=True)\n",
       "        (final_layer_norm): LayerNorm((768,), eps=1e-05, elementwise_affine=True)\n",
       "      )\n",
       "      (9): GraphormerGraphEncoderLayer(\n",
       "        (dropout_module): Dropout(p=0.1, inplace=False)\n",
       "        (activation_dropout_module): Dropout(p=0.1, inplace=False)\n",
       "        (activation_fn): GELUActivation()\n",
       "        (self_attn): GraphormerMultiheadAttention(\n",
       "          (attention_dropout_module): Dropout(p=0.1, inplace=False)\n",
       "          (k_proj): Linear(in_features=768, out_features=768, bias=True)\n",
       "          (v_proj): Linear(in_features=768, out_features=768, bias=True)\n",
       "          (q_proj): Linear(in_features=768, out_features=768, bias=True)\n",
       "          (out_proj): Linear(in_features=768, out_features=768, bias=True)\n",
       "        )\n",
       "        (self_attn_layer_norm): LayerNorm((768,), eps=1e-05, elementwise_affine=True)\n",
       "        (fc1): Linear(in_features=768, out_features=768, bias=True)\n",
       "        (fc2): Linear(in_features=768, out_features=768, bias=True)\n",
       "        (final_layer_norm): LayerNorm((768,), eps=1e-05, elementwise_affine=True)\n",
       "      )\n",
       "      (10): GraphormerGraphEncoderLayer(\n",
       "        (dropout_module): Dropout(p=0.1, inplace=False)\n",
       "        (activation_dropout_module): Dropout(p=0.1, inplace=False)\n",
       "        (activation_fn): GELUActivation()\n",
       "        (self_attn): GraphormerMultiheadAttention(\n",
       "          (attention_dropout_module): Dropout(p=0.1, inplace=False)\n",
       "          (k_proj): Linear(in_features=768, out_features=768, bias=True)\n",
       "          (v_proj): Linear(in_features=768, out_features=768, bias=True)\n",
       "          (q_proj): Linear(in_features=768, out_features=768, bias=True)\n",
       "          (out_proj): Linear(in_features=768, out_features=768, bias=True)\n",
       "        )\n",
       "        (self_attn_layer_norm): LayerNorm((768,), eps=1e-05, elementwise_affine=True)\n",
       "        (fc1): Linear(in_features=768, out_features=768, bias=True)\n",
       "        (fc2): Linear(in_features=768, out_features=768, bias=True)\n",
       "        (final_layer_norm): LayerNorm((768,), eps=1e-05, elementwise_affine=True)\n",
       "      )\n",
       "      (11): GraphormerGraphEncoderLayer(\n",
       "        (dropout_module): Dropout(p=0.1, inplace=False)\n",
       "        (activation_dropout_module): Dropout(p=0.1, inplace=False)\n",
       "        (activation_fn): GELUActivation()\n",
       "        (self_attn): GraphormerMultiheadAttention(\n",
       "          (attention_dropout_module): Dropout(p=0.1, inplace=False)\n",
       "          (k_proj): Linear(in_features=768, out_features=768, bias=True)\n",
       "          (v_proj): Linear(in_features=768, out_features=768, bias=True)\n",
       "          (q_proj): Linear(in_features=768, out_features=768, bias=True)\n",
       "          (out_proj): Linear(in_features=768, out_features=768, bias=True)\n",
       "        )\n",
       "        (self_attn_layer_norm): LayerNorm((768,), eps=1e-05, elementwise_affine=True)\n",
       "        (fc1): Linear(in_features=768, out_features=768, bias=True)\n",
       "        (fc2): Linear(in_features=768, out_features=768, bias=True)\n",
       "        (final_layer_norm): LayerNorm((768,), eps=1e-05, elementwise_affine=True)\n",
       "      )\n",
       "    )\n",
       "  )\n",
       "  (lm_head_transform_weight): Linear(in_features=768, out_features=768, bias=True)\n",
       "  (activation_fn): GELUActivation()\n",
       "  (layer_norm): LayerNorm((768,), eps=1e-05, elementwise_affine=True)\n",
       ")"
      ]
     },
     "execution_count": 37,
     "metadata": {},
     "output_type": "execute_result"
    }
   ],
   "source": [
    "# set eval mode\n",
    "ms_model.set_train(False)\n",
    "pt_model.eval()"
   ]
  },
  {
   "cell_type": "code",
   "execution_count": 49,
   "metadata": {},
   "outputs": [
    {
     "data": {
      "text/plain": [
       "1"
      ]
     },
     "execution_count": 49,
     "metadata": {},
     "output_type": "execute_result"
    }
   ],
   "source": [
    "#batch_size\n",
    "#graph_size\n",
    "ms_config.num_atoms\n",
    "ms_config.num_edges\n",
    "ms_config.num_spatial\n",
    "ms_config.num_in_degree\n",
    "ms_config.num_out_degree\n",
    "ms_config.multi_hop_max_dist\n",
    "ms_config.num_classes"
   ]
  },
  {
   "cell_type": "code",
   "execution_count": 50,
   "metadata": {},
   "outputs": [],
   "source": [
    "def ids_tensor_np(shape, vocab_size):\n",
    "    return np.randint(0, vocab_size-1, shape)"
   ]
  },
  {
   "cell_type": "code",
   "execution_count": 41,
   "metadata": {},
   "outputs": [],
   "source": [
    "# prepare data\n",
    "batch_size=10\n",
    "graph_size=20\n",
    "\n",
    "input_dict = dict(attn_bias = ids_tensor_np([batch_size, graph_size + 1, graph_size + 1], ms_config.num_atoms),\n",
    "    attn_edge_type = ids_tensor_np([batch_size, graph_size, graph_size, 1], ms_config.num_edges),\n",
    "    spatial_pos = ids_tensor_np([batch_size, graph_size, graph_size], ms_config.num_spatial),\n",
    "    in_degree = ids_tensor_np([batch_size, graph_size], ms_config.num_in_degree),\n",
    "    out_degree = ids_tensor_np([batch_size, graph_size], ms_config.num_out_degree),\n",
    "    input_nodes = ids_tensor_np([batch_size, graph_size, 1], ms_config.num_atoms),\n",
    "    input_edges = ids_tensor_np([batch_size, graph_size, graph_size, self.multi_hop_max_dist, 1], ms_config.num_edges),\n",
    "    labels = ids_tensor_np([batch_size], ms_config.num_classes) )\n",
    "\n",
    "\n",
    "x = np.random.randn(4, 64, 512)\n",
    "ms_x = mindspore.Tensor(x, dtype=mindspore.float32) # dtype depends on model\n",
    "pt_x = torch.tensor(x, dtype=torch.float32)         # sometimes maybe int not float"
   ]
  },
  {
   "cell_type": "code",
   "execution_count": 42,
   "metadata": {},
   "outputs": [],
   "source": [
    "# output\n",
    "ms_out = ms_model(ms_x)\n",
    "pt_out = pt_model(pt_x)"
   ]
  },
  {
   "cell_type": "code",
   "execution_count": 43,
   "metadata": {},
   "outputs": [
    {
     "name": "stdout",
     "output_type": "stream",
     "text": [
      "PASS\n"
     ]
    }
   ],
   "source": [
    "# shape & loss\n",
    "assert ms_out[0].shape == pt_out[0].shape\n",
    "# assert ms_out[1].shape == pt_out[1].shape # NoneType\n",
    "assert ms_out[2].shape == pt_out[2].shape\n",
    "assert np.allclose(ms_out[0].asnumpy(), pt_out[0].detach().numpy(), 1e-5, 1e-5)\n",
    "# assert np.allclose(ms_out[1].asnumpy(), pt_out[1].detach().numpy(), 1e-5, 1e-5) # NoneType\n",
    "assert np.allclose(ms_out[2].asnumpy(), pt_out[2].detach().numpy(), 1e-5, 1e-5)\n",
    "print(\"PASS\")"
   ]
  },
  {
   "cell_type": "code",
   "execution_count": 49,
   "metadata": {},
   "outputs": [],
   "source": [
    "def judge(o1, o2, loss = 1e-3, prefix = '-'):\n",
    "    prefix += '-'\n",
    "    if (isinstance(o1, tuple)):\n",
    "        for i in range(len(o1)):\n",
    "            judge(o1[i], o2[i], loss=loss, prefix=prefix)\n",
    "    elif (isinstance(o1,mindspore.Tensor)):\n",
    "        print(f\"{prefix}{np.allclose(o1.asnumpy(), o2.detach().numpy(), loss, loss)}\")\n",
    "    else:\n",
    "        print(f\"{type(o1)}-{type(o2)}:{o1==o2}\")"
   ]
  },
  {
   "cell_type": "code",
   "execution_count": 50,
   "metadata": {},
   "outputs": [
    {
     "name": "stdout",
     "output_type": "stream",
     "text": [
      "---True\n",
      "<class 'NoneType'>-<class 'NoneType'>:True\n",
      "---True\n"
     ]
    }
   ],
   "source": [
    "judge(ms_out, pt_out)"
   ]
  }
 ],
 "metadata": {
  "kernelspec": {
   "display_name": "Python 3 (ipykernel)",
   "language": "python",
   "name": "python3"
  },
  "language_info": {
   "codemirror_mode": {
    "name": "ipython",
    "version": 3
   },
   "file_extension": ".py",
   "mimetype": "text/x-python",
   "name": "python",
   "nbconvert_exporter": "python",
   "pygments_lexer": "ipython3",
   "version": "3.9.18"
  }
 },
 "nbformat": 4,
 "nbformat_minor": 4
}
